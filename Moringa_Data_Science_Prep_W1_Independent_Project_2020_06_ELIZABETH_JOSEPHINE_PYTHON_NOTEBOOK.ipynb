{
  "nbformat": 4,
  "nbformat_minor": 0,
  "metadata": {
    "colab": {
      "name": "Moringa_Data_Science_Prep_W1_Independent_Project_2020_06_ELIZABETH_JOSEPHINE_PYTHON_NOTEBOOK",
      "provenance": [],
      "collapsed_sections": [],
      "authorship_tag": "ABX9TyN+AAJC8JlC/KY76vu0E2r3",
      "include_colab_link": true
    },
    "kernelspec": {
      "name": "python3",
      "display_name": "Python 3"
    }
  },
  "cells": [
    {
      "cell_type": "markdown",
      "metadata": {
        "id": "view-in-github",
        "colab_type": "text"
      },
      "source": [
        "<a href=\"https://colab.research.google.com/github/alfafimel/INDEPENDENT-PROJECT-WEEK-1-PREP/blob/master/Moringa_Data_Science_Prep_W1_Independent_Project_2020_06_ELIZABETH_JOSEPHINE_PYTHON_NOTEBOOK.ipynb\" target=\"_parent\"><img src=\"https://colab.research.google.com/assets/colab-badge.svg\" alt=\"Open In Colab\"/></a>"
      ]
    },
    {
      "cell_type": "code",
      "metadata": {
        "id": "FS1Dx289-N31",
        "colab_type": "code",
        "colab": {
          "base_uri": "https://localhost:8080/",
          "height": 51
        },
        "outputId": "7fc22d71-a293-4d46-f3db-60b2a3c34c50"
      },
      "source": [
        "#STEP 1\n",
        "# note down a program asking the user to enter a weight in pounds\n",
        "# with this program, you can now convert the pounds to kgs a= 10 pounds, b=20 pounds\n",
        "# convert a using the conversion code\n",
        "#\n",
        "pounds = float(input('a'))\n",
        "kilograms = pounds / 2.2\n",
        "print(pounds, 'pounds are equal to', kilograms, 'kilograms')"
      ],
      "execution_count": null,
      "outputs": [
        {
          "output_type": "stream",
          "text": [
            "a10\n",
            "10.0 pounds are equal to 4.545454545454545 kilograms\n"
          ],
          "name": "stdout"
        }
      ]
    },
    {
      "cell_type": "code",
      "metadata": {
        "id": "w9R0aT2-f2b6",
        "colab_type": "code",
        "colab": {
          "base_uri": "https://localhost:8080/",
          "height": 51
        },
        "outputId": "eb2f04c4-e509-4365-953e-29fdca33aa4d"
      },
      "source": [
        "#STEP 2\n",
        "# using the conversion code,\n",
        "# convert the second value\n",
        "pounds = float(input('b'))\n",
        "kilograms = pounds / 2.2\n",
        "print(pounds, 'pounds are equal to', kilograms, 'kilograms')"
      ],
      "execution_count": null,
      "outputs": [
        {
          "output_type": "stream",
          "text": [
            "b20\n",
            "20.0 pounds are equal to 9.09090909090909 kilograms\n"
          ],
          "name": "stdout"
        }
      ]
    },
    {
      "cell_type": "code",
      "metadata": {
        "id": "MXIMgS4hgZzI",
        "colab_type": "code",
        "colab": {
          "base_uri": "https://localhost:8080/",
          "height": 85
        },
        "outputId": "0664110d-8075-4f1c-d7d9-10dce1b5efe3"
      },
      "source": [
        "# STEP 3\n",
        "# now that i got the values of a and b in kilograms,\n",
        "# i can proceed to do the arithmetic\n",
        "#\n",
        "a = 4.545454545454545\n",
        "b = 9.09090909090909\n",
        "# performing the sum of the values\n",
        "print(a+b)\n",
        "# performing the average of the values\n",
        "print((a+b)/2)\n",
        "# finding the difference between the values\n",
        "print(b-a)\n",
        "# finding the quotient when one value is divided by the other\n",
        "print(a/b)"
      ],
      "execution_count": null,
      "outputs": [
        {
          "output_type": "stream",
          "text": [
            "13.636363636363635\n",
            "6.8181818181818175\n",
            "4.545454545454545\n",
            "0.5\n"
          ],
          "name": "stdout"
        }
      ]
    },
    {
      "cell_type": "code",
      "metadata": {
        "id": "0O7NdeTeoaEP",
        "colab_type": "code",
        "colab": {
          "base_uri": "https://localhost:8080/",
          "height": 85
        },
        "outputId": "b566a8b3-4869-4090-f701-6c6b611ea4f5"
      },
      "source": [
        "# STEP 3~\n",
        "# with my values in pounds still\n",
        "# i can proceed to do the arithmetic\n",
        "#\n",
        "a = 10\n",
        "b = 20\n",
        "# performing the sum of the values\n",
        "print(a+b)\n",
        "# performing the average of the values\n",
        "print((a+b)/2)\n",
        "# finding the difference between the values\n",
        "print(b-a)\n",
        "# finding the quotient when one value is divided by the other\n",
        "print(a/b)"
      ],
      "execution_count": null,
      "outputs": [
        {
          "output_type": "stream",
          "text": [
            "30\n",
            "15.0\n",
            "10\n",
            "0.5\n"
          ],
          "name": "stdout"
        }
      ]
    },
    {
      "cell_type": "code",
      "metadata": {
        "id": "HpjETpW8kVDF",
        "colab_type": "code",
        "colab": {
          "base_uri": "https://localhost:8080/",
          "height": 51
        },
        "outputId": "2aa0775d-56cc-4ff1-e3d0-5fff7dbac687"
      },
      "source": [
        "# STEP 4\n",
        "# determining and printing out whether any of the values is even or odd\n",
        "# write a source code to determine the value\n",
        "#\n",
        "num = int(input('enter the number to be determined'))\n",
        "if num % 2 == 0:\n",
        "    print(num, \"is EVEN\")\n",
        "else:\n",
        "    print(num, \"is ODD\")\n",
        "#for a = 10"
      ],
      "execution_count": null,
      "outputs": [
        {
          "output_type": "stream",
          "text": [
            "enter the number to be determined10\n",
            "10 is EVEN\n"
          ],
          "name": "stdout"
        }
      ]
    },
    {
      "cell_type": "code",
      "metadata": {
        "id": "b55q-6jCpT3Q",
        "colab_type": "code",
        "colab": {
          "base_uri": "https://localhost:8080/",
          "height": 51
        },
        "outputId": "32510ca0-6959-4583-9cce-46681cac00ef"
      },
      "source": [
        "# STEP 5\n",
        "# determining and printing out whether any of the values is even or odd\n",
        "# write a source code to determine the value\n",
        "#\n",
        "num = int(input('enter the number to be determined'))\n",
        "if num % 2 == 0:\n",
        "    print(num, \"is EVEN\")\n",
        "else:\n",
        "    print(num, \"is ODD\")\n",
        "#for b = 20"
      ],
      "execution_count": null,
      "outputs": [
        {
          "output_type": "stream",
          "text": [
            "enter the number to be determined20\n",
            "20 is EVEN\n"
          ],
          "name": "stdout"
        }
      ]
    }
  ]
}